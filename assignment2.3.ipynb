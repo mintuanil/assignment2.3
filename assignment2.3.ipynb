{
 "cells": [
  {
   "cell_type": "code",
   "execution_count": 2,
   "metadata": {},
   "outputs": [
    {
     "name": "stdout",
     "output_type": "stream",
     "text": [
      "The longest word is: 'have a wonderful day'\n"
     ]
    }
   ],
   "source": [
    "#Implement a function longestWord() that takes a list of words and returns the longest\n",
    "#one.\n",
    "wordlst=['Have a nice day','Good morning','Good evening','have a wonderful day','nice to meet you']\n",
    "\n",
    "def longestWord(wordlst):\n",
    "    maxlen=0\n",
    "    maxword=''\n",
    "\n",
    "    for word in wordlst:\n",
    "       \n",
    "        if (len(word)>maxlen):\n",
    "            maxlen=len(word)\n",
    "            maxword=word\n",
    "    return maxword\n",
    "print(\"The longest word is: '\"+ longestWord(wordlst) +\"'\") "
   ]
  },
  {
   "cell_type": "code",
   "execution_count": null,
   "metadata": {},
   "outputs": [],
   "source": []
  }
 ],
 "metadata": {
  "kernelspec": {
   "display_name": "Python 3",
   "language": "python",
   "name": "python3"
  },
  "language_info": {
   "codemirror_mode": {
    "name": "ipython",
    "version": 3
   },
   "file_extension": ".py",
   "mimetype": "text/x-python",
   "name": "python",
   "nbconvert_exporter": "python",
   "pygments_lexer": "ipython3",
   "version": "3.6.4"
  }
 },
 "nbformat": 4,
 "nbformat_minor": 2
}
